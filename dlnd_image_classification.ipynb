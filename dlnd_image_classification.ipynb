{
 "cells": [
  {
   "cell_type": "markdown",
   "metadata": {
    "collapsed": true,
    "deletable": true,
    "editable": true
   },
   "source": [
    "# Image Classification\n",
    "In this project, you'll classify images from the [CIFAR-10 dataset](https://www.cs.toronto.edu/~kriz/cifar.html).  The dataset consists of airplanes, dogs, cats, and other objects. You'll preprocess the images, then train a convolutional neural network on all the samples. The images need to be normalized and the labels need to be one-hot encoded.  You'll get to apply what you learned and build a convolutional, max pooling, dropout, and fully connected layers.  At the end, you'll get to see your neural network's predictions on the sample images.\n",
    "## Get the Data\n",
    "Run the following cell to download the [CIFAR-10 dataset for python](https://www.cs.toronto.edu/~kriz/cifar-10-python.tar.gz)."
   ]
  },
  {
   "cell_type": "code",
   "execution_count": 1,
   "metadata": {
    "collapsed": false,
    "deletable": true,
    "editable": true
   },
   "outputs": [
    {
     "name": "stderr",
     "output_type": "stream",
     "text": [
      "CIFAR-10 Dataset: 171MB [00:38, 4.44MB/s]                              \n"
     ]
    },
    {
     "name": "stdout",
     "output_type": "stream",
     "text": [
      "All files found!\n"
     ]
    }
   ],
   "source": [
    "\"\"\"\n",
    "DON'T MODIFY ANYTHING IN THIS CELL THAT IS BELOW THIS LINE\n",
    "\"\"\"\n",
    "from urllib.request import urlretrieve\n",
    "from os.path import isfile, isdir\n",
    "from tqdm import tqdm\n",
    "import problem_unittests as tests\n",
    "import tarfile\n",
    "\n",
    "cifar10_dataset_folder_path = 'cifar-10-batches-py'\n",
    "\n",
    "class DLProgress(tqdm):\n",
    "    last_block = 0\n",
    "\n",
    "    def hook(self, block_num=1, block_size=1, total_size=None):\n",
    "        self.total = total_size\n",
    "        self.update((block_num - self.last_block) * block_size)\n",
    "        self.last_block = block_num\n",
    "\n",
    "if not isfile('cifar-10-python.tar.gz'):\n",
    "    with DLProgress(unit='B', unit_scale=True, miniters=1, desc='CIFAR-10 Dataset') as pbar:\n",
    "        urlretrieve(\n",
    "            'https://www.cs.toronto.edu/~kriz/cifar-10-python.tar.gz',\n",
    "            'cifar-10-python.tar.gz',\n",
    "            pbar.hook)\n",
    "\n",
    "if not isdir(cifar10_dataset_folder_path):\n",
    "    with tarfile.open('cifar-10-python.tar.gz') as tar:\n",
    "        tar.extractall()\n",
    "        tar.close()\n",
    "\n",
    "\n",
    "tests.test_folder_path(cifar10_dataset_folder_path)"
   ]
  },
  {
   "cell_type": "markdown",
   "metadata": {
    "deletable": true,
    "editable": true
   },
   "source": [
    "## Explore the Data\n",
    "The dataset is broken into batches to prevent your machine from running out of memory.  The CIFAR-10 dataset consists of 5 batches, named `data_batch_1`, `data_batch_2`, etc.. Each batch contains the labels and images that are one of the following:\n",
    "* airplane\n",
    "* automobile\n",
    "* bird\n",
    "* cat\n",
    "* deer\n",
    "* dog\n",
    "* frog\n",
    "* horse\n",
    "* ship\n",
    "* truck\n",
    "\n",
    "Understanding a dataset is part of making predictions on the data.  Play around with the code cell below by changing the `batch_id` and `sample_id`. The `batch_id` is the id for a batch (1-5). The `sample_id` is the id for a image and label pair in the batch.\n",
    "\n",
    "Ask yourself \"What are all possible labels?\", \"What is the range of values for the image data?\", \"Are the labels in order or random?\".  Answers to questions like these will help you preprocess the data and end up with better predictions."
   ]
  },
  {
   "cell_type": "code",
   "execution_count": 5,
   "metadata": {
    "collapsed": false,
    "deletable": true,
    "editable": true
   },
   "outputs": [
    {
     "name": "stdout",
     "output_type": "stream",
     "text": [
      "\n",
      "Stats of batch 1:\n",
      "Samples: 10000\n",
      "Label Counts: {0: 1005, 1: 974, 2: 1032, 3: 1016, 4: 999, 5: 937, 6: 1030, 7: 1001, 8: 1025, 9: 981}\n",
      "First 20 Labels: [6, 9, 9, 4, 1, 1, 2, 7, 8, 3, 4, 7, 7, 2, 9, 9, 9, 3, 2, 6]\n",
      "\n",
      "Example of Image 5:\n",
      "Image - Min Value: 0 Max Value: 252\n",
      "Image - Shape: (32, 32, 3)\n",
      "Label - Label Id: 1 Name: automobile\n"
     ]
    },
    {
     "data": {
      "image/png": "[encoded data removed]",
      "text/plain": [
       "<matplotlib.figure.Figure at 0x7f1f1b7006a0>"
      ]
     },
     "metadata": {
      "image/png": {
       "height": 250,
       "width": 253
      }
     },
     "output_type": "display_data"
    }
   ],
   "source": [
    "%matplotlib inline\n",
    "%config InlineBackend.figure_format = 'retina'\n",
    "\n",
    "import helper\n",
    "import numpy as np\n",
    "\n",
    "# Explore the dataset\n",
    "batch_id = 1\n",
    "sample_id = 5\n",
    "helper.display_stats(cifar10_dataset_folder_path, batch_id, sample_id)"
   ]
  },
  {
   "cell_type": "markdown",
   "metadata": {
    "deletable": true,
    "editable": true
   },
   "source": [
    "## Implement Preprocess Functions\n",
    "### Normalize\n",
    "In the cell below, implement the `normalize` function to take in image data, `x`, and return it as a normalized Numpy array. The values should be in the range of 0 to 1, inclusive.  The return object should be the same shape as `x`."
   ]
  },
  {
   "cell_type": "code",
   "execution_count": 2,
   "metadata": {
    "collapsed": false,
    "deletable": true,
    "editable": true
   },
   "outputs": [
    {
     "name": "stdout",
     "output_type": "stream",
     "text": [
      "Tests Passed\n"
     ]
    }
   ],
   "source": [
    "def normalize(x):\n",
    "    \"\"\"\n",
    "    Normalize a list of sample image data in the range of 0 to 1\n",
    "    : x: List of image data.  The image shape is (32, 32, 3)\n",
    "    : return: Numpy array of normalize data\n",
    "    \"\"\"\n",
    "    # TODO: Implement Function\n",
    "    #return None\n",
    "\n",
    "    a = 0\n",
    "    b = 1\n",
    "    grayscale_min = 0\n",
    "    grayscale_max = 255\n",
    "    return a + ( ( (x - grayscale_min)*(b - a) )/( grayscale_max - grayscale_min ) )\n",
    "\n",
    "\n",
    "\"\"\"\n",
    "DON'T MODIFY ANYTHING IN THIS CELL THAT IS BELOW THIS LINE\n",
    "\"\"\"\n",
    "tests.test_normalize(normalize)"
   ]
  },
  {
   "cell_type": "markdown",
   "metadata": {
    "deletable": true,
    "editable": true
   },
   "source": [
    "### One-hot encode\n",
    "Just like the previous code cell, you'll be implementing a function for preprocessing.  This time, you'll implement the `one_hot_encode` function. The input, `x`, are a list of labels.  Implement the function to return the list of labels as One-Hot encoded Numpy array.  The possible values for labels are 0 to 9. The one-hot encoding function should return the same encoding for each value between each call to `one_hot_encode`.  Make sure to save the map of encodings outside the function.\n",
    "\n",
    "Hint: Don't reinvent the wheel."
   ]
  },
  {
   "cell_type": "code",
   "execution_count": 6,
   "metadata": {
    "collapsed": false,
    "deletable": true,
    "editable": true
   },
   "outputs": [
    {
     "name": "stdout",
     "output_type": "stream",
     "text": [
      "Tests Passed\n"
     ]
    }
   ],
   "source": [
    "def one_hot_encode(x):\n",
    "    \"\"\"\n",
    "    One hot encode a list of sample labels. Return a one-hot encoded vector for each label.\n",
    "    : x: List of sample Labels\n",
    "    : return: Numpy array of one-hot encoded labels\n",
    "    \"\"\"\n",
    "    # TODO: Implement Function\n",
    "    #return None\n",
    "    return np.eye(10)[x]\n",
    "    \n",
    "\"\"\"\n",
    "DON'T MODIFY ANYTHING IN THIS CELL THAT IS BELOW THIS LINE\n",
    "\"\"\"\n",
    "tests.test_one_hot_encode(one_hot_encode)"
   ]
  },
  {
   "cell_type": "markdown",
   "metadata": {
    "deletable": true,
    "editable": true
   },
   "source": [
    "### Randomize Data\n",
    "As you saw from exploring the data above, the order of the samples are randomized.  It doesn't hurt to randomize it again, but you don't need to for this dataset."
   ]
  },
  {
   "cell_type": "markdown",
   "metadata": {
    "deletable": true,
    "editable": true
   },
   "source": [
    "## Preprocess all the data and save it\n",
    "Running the code cell below will preprocess all the CIFAR-10 data and save it to file. The code below also uses 10% of the training data for validation."
   ]
  },
  {
   "cell_type": "code",
   "execution_count": 7,
   "metadata": {
    "collapsed": false,
    "deletable": true,
    "editable": true
   },
   "outputs": [],
   "source": [
    "\"\"\"\n",
    "DON'T MODIFY ANYTHING IN THIS CELL\n",
    "\"\"\"\n",
    "# Preprocess Training, Validation, and Testing Data\n",
    "helper.preprocess_and_save_data(cifar10_dataset_folder_path, normalize, one_hot_encode)"
   ]
  },
  {
   "cell_type": "markdown",
   "metadata": {
    "deletable": true,
    "editable": true
   },
   "source": [
    "# Check Point\n",
    "This is your first checkpoint.  If you ever decide to come back to this notebook or have to restart the notebook, you can start from here.  The preprocessed data has been saved to disk."
   ]
  },
  {
   "cell_type": "code",
   "execution_count": 8,
   "metadata": {
    "collapsed": true,
    "deletable": true,
    "editable": true
   },
   "outputs": [],
   "source": [
    "\"\"\"\n",
    "DON'T MODIFY ANYTHING IN THIS CELL\n",
    "\"\"\"\n",
    "import pickle\n",
    "import problem_unittests as tests\n",
    "import helper\n",
    "\n",
    "# Load the Preprocessed Validation data\n",
    "valid_features, valid_labels = pickle.load(open('preprocess_validation.p', mode='rb'))"
   ]
  },
  {
   "cell_type": "markdown",
   "metadata": {
    "deletable": true,
    "editable": true
   },
   "source": [
    "## Build the network\n",
    "For the neural network, you'll build each layer into a function.  Most of the code you've seen has been outside of functions. To test your code more thoroughly, we require that you put each layer in a function.  This allows us to give you better feedback and test for simple mistakes using our unittests before you submit your project.\n",
    "\n",
    ">**Note:** If you're finding it hard to dedicate enough time for this course each week, we've provided a small shortcut to this part of the project. In the next couple of problems, you'll have the option to use classes from the [TensorFlow Layers](https://www.tensorflow.org/api_docs/python/tf/layers) or [TensorFlow Layers (contrib)](https://www.tensorflow.org/api_guides/python/contrib.layers) packages to build each layer, except the layers you build in the \"Convolutional and Max Pooling Layer\" section.  TF Layers is similar to Keras's and TFLearn's abstraction to layers, so it's easy to pickup.\n",
    "\n",
    ">However, if you would like to get the most out of this course, try to solve all the problems _without_ using anything from the TF Layers packages. You **can** still use classes from other packages that happen to have the same name as ones you find in TF Layers! For example, instead of using the TF Layers version of the `conv2d` class, [tf.layers.conv2d](https://www.tensorflow.org/api_docs/python/tf/layers/conv2d), you would want to use the TF Neural Network version of `conv2d`, [tf.nn.conv2d](https://www.tensorflow.org/api_docs/python/tf/nn/conv2d). \n",
    "\n",
    "Let's begin!\n",
    "\n",
    "### Input\n",
    "The neural network needs to read the image data, one-hot encoded labels, and dropout keep probability. Implement the following functions\n",
    "* Implement `neural_net_image_input`\n",
    " * Return a [TF Placeholder](https://www.tensorflow.org/api_docs/python/tf/placeholder)\n",
    " * Set the shape using `image_shape` with batch size set to `None`.\n",
    " * Name the TensorFlow placeholder \"x\" using the TensorFlow `name` parameter in the [TF Placeholder](https://www.tensorflow.org/api_docs/python/tf/placeholder).\n",
    "* Implement `neural_net_label_input`\n",
    " * Return a [TF Placeholder](https://www.tensorflow.org/api_docs/python/tf/placeholder)\n",
    " * Set the shape using `n_classes` with batch size set to `None`.\n",
    " * Name the TensorFlow placeholder \"y\" using the TensorFlow `name` parameter in the [TF Placeholder](https://www.tensorflow.org/api_docs/python/tf/placeholder).\n",
    "* Implement `neural_net_keep_prob_input`\n",
    " * Return a [TF Placeholder](https://www.tensorflow.org/api_docs/python/tf/placeholder) for dropout keep probability.\n",
    " * Name the TensorFlow placeholder \"keep_prob\" using the TensorFlow `name` parameter in the [TF Placeholder](https://www.tensorflow.org/api_docs/python/tf/placeholder).\n",
    "\n",
    "These names will be used at the end of the project to load your saved model.\n",
    "\n",
    "Note: `None` for shapes in TensorFlow allow for a dynamic size."
   ]
  },
  {
   "cell_type": "code",
   "execution_count": 9,
   "metadata": {
    "collapsed": false,
    "deletable": true,
    "editable": true
   },
   "outputs": [
    {
     "name": "stdout",
     "output_type": "stream",
     "text": [
      "Image Input Tests Passed.\n",
      "Label Input Tests Passed.\n",
      "Keep Prob Tests Passed.\n"
     ]
    }
   ],
   "source": [
    "import tensorflow as tf\n",
    "\n",
    "def neural_net_image_input(image_shape):\n",
    "    \"\"\"\n",
    "    Return a Tensor for a batch of image input\n",
    "    : image_shape: Shape of the images\n",
    "    : return: Tensor for image input.\n",
    "    \"\"\"\n",
    "    # TODO: Implement Function\n",
    "    #return None\n",
    "    #See TensorFlow Convolution Layer lesson: \n",
    "    #input = tf.placeholder(tf.float32,(None, image_height, image_width, color_channels), name = 'input')\n",
    "    #image_shape[0] = width, image_shape[1] = height, image_shape[2] = channel\n",
    "    #print(image_shape)\n",
    "    \n",
    "    return tf.placeholder(tf.float32,(None,image_shape[0], image_shape[1], image_shape[2]), name = 'x')\n",
    "\n",
    "def neural_net_label_input(n_classes):\n",
    "    \"\"\"\n",
    "    Return a Tensor for a batch of label input\n",
    "    : n_classes: Number of classes\n",
    "    : return: Tensor for label input.\n",
    "    \"\"\"\n",
    "    # TODO: Implement Function\n",
    "    #return None\n",
    "    return tf.placeholder(tf.float32, (None, n_classes), name = 'y') \n",
    "\n",
    "def neural_net_keep_prob_input():\n",
    "    \"\"\"\n",
    "    Return a Tensor for keep probability\n",
    "    : return: Tensor for keep probability.\n",
    "    \"\"\"\n",
    "    # TODO: Implement Function\n",
    "    #return None\n",
    "    return tf.placeholder(tf.float32, name = 'keep_prob')\n",
    "\n",
    "\"\"\"\n",
    "DON'T MODIFY ANYTHING IN THIS CELL THAT IS BELOW THIS LINE\n",
    "\"\"\"\n",
    "tf.reset_default_graph()\n",
    "tests.test_nn_image_inputs(neural_net_image_input)\n",
    "tests.test_nn_label_inputs(neural_net_label_input)\n",
    "tests.test_nn_keep_prob_inputs(neural_net_keep_prob_input)"
   ]
  },
  {
   "cell_type": "markdown",
   "metadata": {
    "deletable": true,
    "editable": true
   },
   "source": [
    "### Convolution and Max Pooling Layer\n",
    "Convolution layers have a lot of success with images. For this code cell, you should implement the function `conv2d_maxpool` to apply convolution then max pooling:\n",
    "* Create the weight and bias using `conv_ksize`, `conv_num_outputs` and the shape of `x_tensor`.\n",
    "* Apply a convolution to `x_tensor` using weight and `conv_strides`.\n",
    " * We recommend you use same padding, but you're welcome to use any padding.\n",
    "* Add bias\n",
    "* Add a nonlinear activation to the convolution.\n",
    "* Apply Max Pooling using `pool_ksize` and `pool_strides`.\n",
    " * We recommend you use same padding, but you're welcome to use any padding.\n",
    "\n",
    "**Note:** You **can't** use [TensorFlow Layers](https://www.tensorflow.org/api_docs/python/tf/layers) or [TensorFlow Layers (contrib)](https://www.tensorflow.org/api_guides/python/contrib.layers) for **this** layer, but you can still use TensorFlow's [Neural Network](https://www.tensorflow.org/api_docs/python/tf/nn) package. You may still use the shortcut option for all the **other** layers."
   ]
  },
  {
   "cell_type": "code",
   "execution_count": 10,
   "metadata": {
    "collapsed": false,
    "deletable": true,
    "editable": true
   },
   "outputs": [
    {
     "name": "stdout",
     "output_type": "stream",
     "text": [
      "Tests Passed\n"
     ]
    }
   ],
   "source": [
    "def conv2d_maxpool(x_tensor, conv_num_outputs, conv_ksize, conv_strides, pool_ksize, pool_strides):\n",
    "    \"\"\"\n",
    "    Apply convolution then max pooling to x_tensor\n",
    "    :param x_tensor: TensorFlow Tensor\n",
    "    :param conv_num_outputs: Number of outputs for the convolutional layer\n",
    "    :param conv_ksize: kernal size 2-D Tuple for the convolutional layer\n",
    "    :param conv_strides: Stride 2-D Tuple for convolution\n",
    "    :param pool_ksize: kernal size 2-D Tuple for pool\n",
    "    :param pool_strides: Stride 2-D Tuple for pool\n",
    "    : return: A tensor that represents convolution and max pooling of x_tensor\n",
    "    \"\"\"\n",
    "    # TODO: Implement Function\n",
    "    #Calculate Weight and Bias\n",
    "    #From lesson TensorFlow Convolution Layer\n",
    "    ## Weight and bias\n",
    "    #weight = tf.Variable(tf.truncated_normal([filter_size_height, filter_size_width, color_channels, k_output]))\n",
    "    #bias = tf.Variable(tf.zeros(k_output))   \n",
    "    \n",
    "    weights = tf.Variable(tf.truncated_normal([conv_ksize[0], conv_ksize[1], x_tensor.shape.as_list()[3], conv_num_outputs], stddev=0.05, dtype=tf.float32))\n",
    "    bias = tf.Variable(tf.truncated_normal([conv_num_outputs], dtype=tf.float32))\n",
    "    \n",
    "    #Calculate the convolution\n",
    "    #conv_strides[0] = height\n",
    "    #con_strides[1] = width\n",
    "    \n",
    "    x_tensor = tf.nn.conv2d(x_tensor, weights, strides=[1, conv_strides[0], conv_strides[1], 1], padding='SAME')\n",
    "    \n",
    "    #Add the bias\n",
    "    \n",
    "    x_tensor = tf.nn.bias_add(x_tensor, bias)\n",
    "    \n",
    "    #Nonlinear activation \n",
    "    \n",
    "    x_tensor = tf.nn.relu(x_tensor)\n",
    "        \n",
    "    #Apply Max Pooling\n",
    "    \n",
    "    #return tf.nn.max_pool(x_tensor,ksize=[pool_ksize[0], pool_ksize[1], x_tensor.shape.as_list()[3], conv_num_outputs],strides=[1, pool_strides[0], pool_strides[1], 1], padding='SAME')\n",
    "    #fix from forum and convolutional network lesson:  ksize=[1, k, k, 1],\n",
    "    return tf.nn.max_pool(x_tensor,ksize=[1, pool_ksize[0], pool_ksize[1],1],strides=[1, pool_strides[0], pool_strides[1], 1], padding='SAME')\n",
    "\n",
    "    \n",
    "    #return None \n",
    "\n",
    "\"\"\"\n",
    "DON'T MODIFY ANYTHING IN THIS CELL THAT IS BELOW THIS LINE\n",
    "\"\"\"\n",
    "tests.test_con_pool(conv2d_maxpool)"
   ]
  },
  {
   "cell_type": "markdown",
   "metadata": {
    "deletable": true,
    "editable": true
   },
   "source": [
    "### Flatten Layer\n",
    "Implement the `flatten` function to change the dimension of `x_tensor` from a 4-D tensor to a 2-D tensor.  The output should be the shape (*Batch Size*, *Flattened Image Size*). Shortcut option: you can use classes from the [TensorFlow Layers](https://www.tensorflow.org/api_docs/python/tf/layers) or [TensorFlow Layers (contrib)](https://www.tensorflow.org/api_guides/python/contrib.layers) packages for this layer. For more of a challenge, only use other TensorFlow packages."
   ]
  },
  {
   "cell_type": "code",
   "execution_count": 11,
   "metadata": {
    "collapsed": false,
    "deletable": true,
    "editable": true
   },
   "outputs": [
    {
     "name": "stdout",
     "output_type": "stream",
     "text": [
      "Tests Passed\n"
     ]
    }
   ],
   "source": [
    "def flatten(x_tensor):\n",
    "    \"\"\"\n",
    "    Flatten x_tensor to (Batch Size, Flattened Image Size)\n",
    "    : x_tensor: A tensor of size (Batch Size, ...), where ... are the image dimensions.\n",
    "    : return: A tensor of size (Batch Size, Flattened Image Size).\n",
    "    \"\"\"\n",
    "    # TODO: Implement Function\n",
    "    #return None\n",
    "\n",
    "    # TODO: Implement Function\n",
    "    size = x_tensor.get_shape().as_list()\n",
    "    #flatten function\n",
    "    return tf.reshape(x_tensor, [-1, size[1]*size[2]*size[3]])\n",
    "    \n",
    "\n",
    "\"\"\"\n",
    "DON'T MODIFY ANYTHING IN THIS CELL THAT IS BELOW THIS LINE\n",
    "\"\"\"\n",
    "tests.test_flatten(flatten)"
   ]
  },
  {
   "cell_type": "markdown",
   "metadata": {
    "deletable": true,
    "editable": true
   },
   "source": [
    "### Fully-Connected Layer\n",
    "Implement the `fully_conn` function to apply a fully connected layer to `x_tensor` with the shape (*Batch Size*, *num_outputs*). Shortcut option: you can use classes from the [TensorFlow Layers](https://www.tensorflow.org/api_docs/python/tf/layers) or [TensorFlow Layers (contrib)](https://www.tensorflow.org/api_guides/python/contrib.layers) packages for this layer. For more of a challenge, only use other TensorFlow packages."
   ]
  },
  {
   "cell_type": "code",
   "execution_count": 12,
   "metadata": {
    "collapsed": false,
    "deletable": true,
    "editable": true
   },
   "outputs": [
    {
     "name": "stdout",
     "output_type": "stream",
     "text": [
      "Tests Passed\n"
     ]
    }
   ],
   "source": [
    "def fully_conn(x_tensor, num_outputs):\n",
    "    \"\"\"\n",
    "    Apply a fully connected layer to x_tensor using weight and bias\n",
    "    : x_tensor: A 2-D tensor where the first dimension is batch size.\n",
    "    : num_outputs: The number of output that the new tensor should be.\n",
    "    : return: A 2-D tensor where the second dimension is num_outputs.\n",
    "    \"\"\"\n",
    "    # TODO: Implement Function\n",
    "    #Get weight and bias\n",
    "    weight = tf.Variable(tf.truncated_normal(x_tensor.get_shape().as_list()[1:]+[num_outputs], stddev = 0.05))\n",
    "    bias = tf.Variable(tf.truncated_normal([num_outputs]))\n",
    "    \n",
    "    #calculate fully connected layer\n",
    "    return tf.add(tf.matmul(x_tensor, weight), bias)\n",
    "    \n",
    "    #To be implemented out of the fully connected layer\n",
    "    #fc1 = tf.nn.relu(x_tensor)\n",
    "    #fc1 = tf.nn.dropout(fc1, dropout)\n",
    "\n",
    "\n",
    "\"\"\"\n",
    "DON'T MODIFY ANYTHING IN THIS CELL THAT IS BELOW THIS LINE\n",
    "\"\"\"\n",
    "tests.test_fully_conn(fully_conn)"
   ]
  },
  {
   "cell_type": "markdown",
   "metadata": {
    "deletable": true,
    "editable": true
   },
   "source": [
    "### Output Layer\n",
    "Implement the `output` function to apply a fully connected layer to `x_tensor` with the shape (*Batch Size*, *num_outputs*). Shortcut option: you can use classes from the [TensorFlow Layers](https://www.tensorflow.org/api_docs/python/tf/layers) or [TensorFlow Layers (contrib)](https://www.tensorflow.org/api_guides/python/contrib.layers) packages for this layer. For more of a challenge, only use other TensorFlow packages.\n",
    "\n",
    "**Note:** Activation, softmax, or cross entropy should **not** be applied to this."
   ]
  },
  {
   "cell_type": "code",
   "execution_count": 13,
   "metadata": {
    "collapsed": false,
    "deletable": true,
    "editable": true
   },
   "outputs": [
    {
     "name": "stdout",
     "output_type": "stream",
     "text": [
      "Tests Passed\n"
     ]
    }
   ],
   "source": [
    "def output(x_tensor, num_outputs):\n",
    "    \"\"\"\n",
    "    Apply a output layer to x_tensor using weight and bias\n",
    "    : x_tensor: A 2-D tensor where the first dimension is batch size.\n",
    "    : num_outputs: The number of output that the new tensor should be.\n",
    "    : return: A 2-D tensor where the second dimension is num_outputs.\n",
    "    \"\"\"\n",
    "    # TODO: Implement Function\n",
    "    #Get weight and bias\n",
    "    weight = tf.Variable(tf.truncated_normal(x_tensor.get_shape().as_list()[1:]+[num_outputs], stddev = 0.05))\n",
    "    bias = tf.Variable(tf.truncated_normal([num_outputs]))\n",
    "    \n",
    "    #calculate fully connected layer\n",
    "    return tf.add(tf.matmul(x_tensor, weight), bias)\n",
    "\n",
    "\n",
    "\"\"\"\n",
    "DON'T MODIFY ANYTHING IN THIS CELL THAT IS BELOW THIS LINE\n",
    "\"\"\"\n",
    "tests.test_output(output)"
   ]
  },
  {
   "cell_type": "markdown",
   "metadata": {
    "deletable": true,
    "editable": true
   },
   "source": [
    "### Create Convolutional Model\n",
    "Implement the function `conv_net` to create a convolutional neural network model. The function takes in a batch of images, `x`, and outputs logits.  Use the layers you created above to create this model:\n",
    "\n",
    "* Apply 1, 2, or 3 Convolution and Max Pool layers\n",
    "* Apply a Flatten Layer\n",
    "* Apply 1, 2, or 3 Fully Connected Layers\n",
    "* Apply an Output Layer\n",
    "* Return the output\n",
    "* Apply [TensorFlow's Dropout](https://www.tensorflow.org/api_docs/python/tf/nn/dropout) to one or more layers in the model using `keep_prob`. "
   ]
  },
  {
   "cell_type": "code",
   "execution_count": 20,
   "metadata": {
    "collapsed": false,
    "deletable": true,
    "editable": true
   },
   "outputs": [
    {
     "name": "stdout",
     "output_type": "stream",
     "text": [
      "Neural Network Built!\n"
     ]
    }
   ],
   "source": [
    "def conv_net(x, keep_prob):\n",
    "    \"\"\"\n",
    "    Create a convolutional neural network model\n",
    "    : x: Placeholder tensor that holds image data.\n",
    "    : keep_prob: Placeholder tensor that hold dropout keep probability.\n",
    "    : return: Tensor that represents logits\n",
    "    \"\"\"\n",
    "    # TODO: Apply 1, 2, or 3 Convolution and Max Pool layers\n",
    "    #    Play around with different number of outputs, kernel size and stride\n",
    "    # Function Definition from Above:\n",
    "    #    conv2d_maxpool(x_tensor, conv_num_outputs, conv_ksize, conv_strides, pool_ksize, pool_strides)\n",
    "    \n",
    "    x_tensor = x\n",
    "    conv_num_outputs_1 = 32\n",
    "    conv_num_outputs_2 = 128\n",
    "    conv_num_outputs_3 = 512\n",
    "    conv_ksize = [(8,8), (4,4), (2,2)]\n",
    "    conv_strides = (1,1)\n",
    "    pool_ksize = (4,4)\n",
    "    pool_strides = (2,2)\n",
    "    num_outputs = 10\n",
    "    \n",
    "    #Layer 1 - \n",
    "    x_tensor = conv2d_maxpool(x_tensor, conv_num_outputs_1, conv_ksize[0], conv_strides, pool_ksize, pool_strides)\n",
    "    #Layer 2 - \n",
    "    x_tensor = conv2d_maxpool(x_tensor, conv_num_outputs_2, conv_ksize[1], conv_strides, pool_ksize, pool_strides)\n",
    "    #Layer 3 - \n",
    "    x_tensor = conv2d_maxpool(x_tensor, conv_num_outputs_3, conv_ksize[2], conv_strides, pool_ksize, pool_strides)\n",
    "\n",
    "    # TODO: Apply a Flatten Layer\n",
    "    # Function Definition from Above:\n",
    "    #   flatten(x_tensor)\n",
    "    x_tensor = flatten(x_tensor)\n",
    "\n",
    "    # TODO: Apply 1, 2, or 3 Fully Connected Layers\n",
    "    #    Play around with different number of outputs\n",
    "    # Function Definition from Above:\n",
    "    #   fully_conn(x_tensor, num_outputs)\n",
    "    \n",
    "    x_tensor = fully_conn(x_tensor, 512)\n",
    "    x_tensor = tf.nn.dropout(x_tensor, keep_prob)\n",
    "    \n",
    "    x_tensor = fully_conn(x_tensor, 128)\n",
    "    x_tensor = tf.nn.dropout(x_tensor, keep_prob)\n",
    "\n",
    "    x_tensor = fully_conn(x_tensor, 32)\n",
    "  \n",
    "    \n",
    "    # TODO: Apply an Output Layer\n",
    "    #    Set this to the number of classes\n",
    "    # Function Definition from Above:\n",
    "    #   output(x_tensor, num_outputs)\n",
    "    return  output(x_tensor, num_outputs)\n",
    "    \n",
    "    # TODO: return output\n",
    "\n",
    "\n",
    "\"\"\"\n",
    "DON'T MODIFY ANYTHING IN THIS CELL THAT IS BELOW THIS LINE\n",
    "\"\"\"\n",
    "\n",
    "##############################\n",
    "## Build the Neural Network ##\n",
    "##############################\n",
    "\n",
    "# Remove previous weights, bias, inputs, etc..\n",
    "tf.reset_default_graph()\n",
    "\n",
    "# Inputs\n",
    "x = neural_net_image_input((32, 32, 3))\n",
    "y = neural_net_label_input(10)\n",
    "keep_prob = neural_net_keep_prob_input()\n",
    "\n",
    "# Model\n",
    "logits = conv_net(x, keep_prob)\n",
    "\n",
    "# Name logits Tensor, so that is can be loaded from disk after training\n",
    "logits = tf.identity(logits, name='logits')\n",
    "\n",
    "# Loss and Optimizer\n",
    "cost = tf.reduce_mean(tf.nn.softmax_cross_entropy_with_logits(logits=logits, labels=y))\n",
    "optimizer = tf.train.AdamOptimizer().minimize(cost)\n",
    "\n",
    "# Accuracy\n",
    "correct_pred = tf.equal(tf.argmax(logits, 1), tf.argmax(y, 1))\n",
    "accuracy = tf.reduce_mean(tf.cast(correct_pred, tf.float32), name='accuracy')\n",
    "\n",
    "tests.test_conv_net(conv_net)"
   ]
  },
  {
   "cell_type": "markdown",
   "metadata": {
    "deletable": true,
    "editable": true
   },
   "source": [
    "## Train the Neural Network\n",
    "### Single Optimization\n",
    "Implement the function `train_neural_network` to do a single optimization.  The optimization should use `optimizer` to optimize in `session` with a `feed_dict` of the following:\n",
    "* `x` for image input\n",
    "* `y` for labels\n",
    "* `keep_prob` for keep probability for dropout\n",
    "\n",
    "This function will be called for each batch, so `tf.global_variables_initializer()` has already been called.\n",
    "\n",
    "Note: Nothing needs to be returned. This function is only optimizing the neural network."
   ]
  },
  {
   "cell_type": "code",
   "execution_count": 21,
   "metadata": {
    "collapsed": false,
    "deletable": true,
    "editable": true
   },
   "outputs": [
    {
     "name": "stdout",
     "output_type": "stream",
     "text": [
      "Tests Passed\n"
     ]
    }
   ],
   "source": [
    "def train_neural_network(session, optimizer, keep_probability, feature_batch, label_batch):\n",
    "    \"\"\"\n",
    "    Optimize the session on a batch of images and labels\n",
    "    : session: Current TensorFlow session\n",
    "    : optimizer: TensorFlow optimizer function\n",
    "    : keep_probability: keep probability\n",
    "    : feature_batch: Batch of Numpy image data\n",
    "    : label_batch: Batch of Numpy label data\n",
    "    \"\"\"\n",
    "    # TODO: Implement Function\n",
    "    #pass\n",
    "    return session.run(optimizer, feed_dict={\n",
    "        x: feature_batch,\n",
    "        y: label_batch,\n",
    "        keep_prob: keep_probability\n",
    "    })\n",
    "\n",
    "\"\"\"\n",
    "DON'T MODIFY ANYTHING IN THIS CELL THAT IS BELOW THIS LINE\n",
    "\"\"\"\n",
    "tests.test_train_nn(train_neural_network)"
   ]
  },
  {
   "cell_type": "markdown",
   "metadata": {
    "deletable": true,
    "editable": true
   },
   "source": [
    "### Show Stats\n",
    "Implement the function `print_stats` to print loss and validation accuracy.  Use the global variables `valid_features` and `valid_labels` to calculate validation accuracy.  Use a keep probability of `1.0` to calculate the loss and validation accuracy."
   ]
  },
  {
   "cell_type": "code",
   "execution_count": 22,
   "metadata": {
    "collapsed": false,
    "deletable": true,
    "editable": true
   },
   "outputs": [],
   "source": [
    "def print_stats(session, feature_batch, label_batch, cost, accuracy):\n",
    "    \"\"\"\n",
    "    Print information about loss and validation accuracy\n",
    "    : session: Current TensorFlow session\n",
    "    : feature_batch: Batch of Numpy image data\n",
    "    : label_batch: Batch of Numpy label data\n",
    "    : cost: TensorFlow cost function\n",
    "    : accuracy: TensorFlow accuracy function\n",
    "    \"\"\"\n",
    "    # TODO: Implement Function\n",
    "    #pass\n",
    "    \n",
    "    # Calculate batch loss and accuracy\n",
    "    loss = sess.run(cost, feed_dict={\n",
    "        x: feature_batch,\n",
    "        y: label_batch,\n",
    "        keep_prob: 1.0})\n",
    "    \n",
    "    valid_acc = sess.run(accuracy, feed_dict={\n",
    "        x: valid_features,\n",
    "        y: valid_labels,\n",
    "        keep_prob: 1.0})\n",
    "\n",
    "    print('Loss: {:>10.4f} Validation Accuracy: {:.6f}'.format(loss, valid_acc))\n"
   ]
  },
  {
   "cell_type": "markdown",
   "metadata": {
    "deletable": true,
    "editable": true
   },
   "source": [
    "### Hyperparameters\n",
    "Tune the following parameters:\n",
    "* Set `epochs` to the number of iterations until the network stops learning or start overfitting\n",
    "* Set `batch_size` to the highest number that your machine has memory for.  Most people set them to common sizes of memory:\n",
    " * 64\n",
    " * 128\n",
    " * 256\n",
    " * ...\n",
    "* Set `keep_probability` to the probability of keeping a node using dropout"
   ]
  },
  {
   "cell_type": "code",
   "execution_count": 23,
   "metadata": {
    "collapsed": true,
    "deletable": true,
    "editable": true
   },
   "outputs": [],
   "source": [
    "# TODO: Tune Parameters\n",
    "epochs = 50\n",
    "batch_size = 512\n",
    "keep_probability = 0.5"
   ]
  },
  {
   "cell_type": "markdown",
   "metadata": {
    "deletable": true,
    "editable": true
   },
   "source": [
    "### Train on a Single CIFAR-10 Batch\n",
    "Instead of training the neural network on all the CIFAR-10 batches of data, let's use a single batch. This should save time while you iterate on the model to get a better accuracy.  Once the final validation accuracy is 50% or greater, run the model on all the data in the next section."
   ]
  },
  {
   "cell_type": "code",
   "execution_count": 24,
   "metadata": {
    "collapsed": false,
    "deletable": true,
    "editable": true
   },
   "outputs": [
    {
     "name": "stdout",
     "output_type": "stream",
     "text": [
      "Checking the Training on a Single Batch...\n",
      "Epoch  1, CIFAR-10 Batch 1:  Loss:     2.3076 Validation Accuracy: 0.149400\n",
      "Epoch  2, CIFAR-10 Batch 1:  Loss:     2.1980 Validation Accuracy: 0.219200\n",
      "Epoch  3, CIFAR-10 Batch 1:  Loss:     2.0662 Validation Accuracy: 0.265400\n",
      "Epoch  4, CIFAR-10 Batch 1:  Loss:     1.9576 Validation Accuracy: 0.318600\n",
      "Epoch  5, CIFAR-10 Batch 1:  Loss:     1.8519 Validation Accuracy: 0.349400\n",
      "Epoch  6, CIFAR-10 Batch 1:  Loss:     1.8154 Validation Accuracy: 0.368400\n",
      "Epoch  7, CIFAR-10 Batch 1:  Loss:     1.6908 Validation Accuracy: 0.390000\n",
      "Epoch  8, CIFAR-10 Batch 1:  Loss:     1.6398 Validation Accuracy: 0.404600\n",
      "Epoch  9, CIFAR-10 Batch 1:  Loss:     1.6097 Validation Accuracy: 0.412000\n",
      "Epoch 10, CIFAR-10 Batch 1:  Loss:     1.5719 Validation Accuracy: 0.424800\n",
      "Epoch 11, CIFAR-10 Batch 1:  Loss:     1.5340 Validation Accuracy: 0.438600\n",
      "Epoch 12, CIFAR-10 Batch 1:  Loss:     1.5005 Validation Accuracy: 0.441400\n",
      "Epoch 13, CIFAR-10 Batch 1:  Loss:     1.4683 Validation Accuracy: 0.453200\n",
      "Epoch 14, CIFAR-10 Batch 1:  Loss:     1.5256 Validation Accuracy: 0.446600\n",
      "Epoch 15, CIFAR-10 Batch 1:  Loss:     1.4212 Validation Accuracy: 0.459000\n",
      "Epoch 16, CIFAR-10 Batch 1:  Loss:     1.3717 Validation Accuracy: 0.476600\n",
      "Epoch 17, CIFAR-10 Batch 1:  Loss:     1.4755 Validation Accuracy: 0.450200\n",
      "Epoch 18, CIFAR-10 Batch 1:  Loss:     1.3029 Validation Accuracy: 0.495000\n",
      "Epoch 19, CIFAR-10 Batch 1:  Loss:     1.2702 Validation Accuracy: 0.498200\n",
      "Epoch 20, CIFAR-10 Batch 1:  Loss:     1.2572 Validation Accuracy: 0.502600\n",
      "Epoch 21, CIFAR-10 Batch 1:  Loss:     1.2264 Validation Accuracy: 0.508200\n",
      "Epoch 22, CIFAR-10 Batch 1:  Loss:     1.1766 Validation Accuracy: 0.520000\n",
      "Epoch 23, CIFAR-10 Batch 1:  Loss:     1.1270 Validation Accuracy: 0.528400\n",
      "Epoch 24, CIFAR-10 Batch 1:  Loss:     1.0663 Validation Accuracy: 0.533000\n",
      "Epoch 25, CIFAR-10 Batch 1:  Loss:     1.0367 Validation Accuracy: 0.532600\n",
      "Epoch 26, CIFAR-10 Batch 1:  Loss:     1.0457 Validation Accuracy: 0.529600\n",
      "Epoch 27, CIFAR-10 Batch 1:  Loss:     1.0262 Validation Accuracy: 0.513000\n",
      "Epoch 28, CIFAR-10 Batch 1:  Loss:     0.9634 Validation Accuracy: 0.533800\n",
      "Epoch 29, CIFAR-10 Batch 1:  Loss:     0.9099 Validation Accuracy: 0.551400\n",
      "Epoch 30, CIFAR-10 Batch 1:  Loss:     0.8820 Validation Accuracy: 0.543200\n",
      "Epoch 31, CIFAR-10 Batch 1:  Loss:     0.8980 Validation Accuracy: 0.536600\n",
      "Epoch 32, CIFAR-10 Batch 1:  Loss:     0.8432 Validation Accuracy: 0.555600\n",
      "Epoch 33, CIFAR-10 Batch 1:  Loss:     0.8210 Validation Accuracy: 0.553200\n",
      "Epoch 34, CIFAR-10 Batch 1:  Loss:     0.7700 Validation Accuracy: 0.561800\n",
      "Epoch 35, CIFAR-10 Batch 1:  Loss:     0.8486 Validation Accuracy: 0.517000\n",
      "Epoch 36, CIFAR-10 Batch 1:  Loss:     0.7705 Validation Accuracy: 0.529800\n",
      "Epoch 37, CIFAR-10 Batch 1:  Loss:     0.7513 Validation Accuracy: 0.536400\n",
      "Epoch 38, CIFAR-10 Batch 1:  Loss:     0.6756 Validation Accuracy: 0.557400\n",
      "Epoch 39, CIFAR-10 Batch 1:  Loss:     0.6428 Validation Accuracy: 0.554600\n",
      "Epoch 40, CIFAR-10 Batch 1:  Loss:     0.6149 Validation Accuracy: 0.564200\n",
      "Epoch 41, CIFAR-10 Batch 1:  Loss:     0.5647 Validation Accuracy: 0.560800\n",
      "Epoch 42, CIFAR-10 Batch 1:  Loss:     0.5583 Validation Accuracy: 0.559600\n",
      "Epoch 43, CIFAR-10 Batch 1:  Loss:     0.5196 Validation Accuracy: 0.564800\n",
      "Epoch 44, CIFAR-10 Batch 1:  Loss:     0.4913 Validation Accuracy: 0.560800\n",
      "Epoch 45, CIFAR-10 Batch 1:  Loss:     0.4653 Validation Accuracy: 0.550600\n",
      "Epoch 46, CIFAR-10 Batch 1:  Loss:     0.4494 Validation Accuracy: 0.563800\n",
      "Epoch 47, CIFAR-10 Batch 1:  Loss:     0.4383 Validation Accuracy: 0.562400\n",
      "Epoch 48, CIFAR-10 Batch 1:  Loss:     0.4236 Validation Accuracy: 0.549200\n",
      "Epoch 49, CIFAR-10 Batch 1:  Loss:     0.4741 Validation Accuracy: 0.551800\n",
      "Epoch 50, CIFAR-10 Batch 1:  Loss:     0.4924 Validation Accuracy: 0.543800\n"
     ]
    }
   ],
   "source": [
    "\"\"\"\n",
    "DON'T MODIFY ANYTHING IN THIS CELL\n",
    "\"\"\"\n",
    "print('Checking the Training on a Single Batch...')\n",
    "with tf.Session() as sess:\n",
    "    # Initializing the variables\n",
    "    sess.run(tf.global_variables_initializer())\n",
    "    \n",
    "    # Training cycle\n",
    "    for epoch in range(epochs):\n",
    "        batch_i = 1\n",
    "        for batch_features, batch_labels in helper.load_preprocess_training_batch(batch_i, batch_size):\n",
    "            train_neural_network(sess, optimizer, keep_probability, batch_features, batch_labels)\n",
    "        print('Epoch {:>2}, CIFAR-10 Batch {}:  '.format(epoch + 1, batch_i), end='')\n",
    "        print_stats(sess, batch_features, batch_labels, cost, accuracy)"
   ]
  },
  {
   "cell_type": "markdown",
   "metadata": {
    "deletable": true,
    "editable": true
   },
   "source": [
    "### Fully Train the Model\n",
    "Now that you got a good accuracy with a single CIFAR-10 batch, try it with all five batches."
   ]
  },
  {
   "cell_type": "code",
   "execution_count": 25,
   "metadata": {
    "collapsed": false,
    "deletable": true,
    "editable": true
   },
   "outputs": [
    {
     "name": "stdout",
     "output_type": "stream",
     "text": [
      "Training...\n",
      "Epoch  1, CIFAR-10 Batch 1:  Loss:     2.3216 Validation Accuracy: 0.097000\n",
      "Epoch  1, CIFAR-10 Batch 2:  Loss:     2.2610 Validation Accuracy: 0.124000\n",
      "Epoch  1, CIFAR-10 Batch 3:  Loss:     2.1861 Validation Accuracy: 0.194200\n",
      "Epoch  1, CIFAR-10 Batch 4:  Loss:     2.0057 Validation Accuracy: 0.249400\n",
      "Epoch  1, CIFAR-10 Batch 5:  Loss:     1.9238 Validation Accuracy: 0.277600\n",
      "Epoch  2, CIFAR-10 Batch 1:  Loss:     1.8854 Validation Accuracy: 0.335800\n",
      "Epoch  2, CIFAR-10 Batch 2:  Loss:     1.7655 Validation Accuracy: 0.355800\n",
      "Epoch  2, CIFAR-10 Batch 3:  Loss:     1.6537 Validation Accuracy: 0.341800\n",
      "Epoch  2, CIFAR-10 Batch 4:  Loss:     1.6209 Validation Accuracy: 0.396400\n",
      "Epoch  2, CIFAR-10 Batch 5:  Loss:     1.6355 Validation Accuracy: 0.402800\n",
      "Epoch  3, CIFAR-10 Batch 1:  Loss:     1.6777 Validation Accuracy: 0.407600\n",
      "Epoch  3, CIFAR-10 Batch 2:  Loss:     1.5390 Validation Accuracy: 0.426800\n",
      "Epoch  3, CIFAR-10 Batch 3:  Loss:     1.3994 Validation Accuracy: 0.420400\n",
      "Epoch  3, CIFAR-10 Batch 4:  Loss:     1.4354 Validation Accuracy: 0.444800\n",
      "Epoch  3, CIFAR-10 Batch 5:  Loss:     1.5073 Validation Accuracy: 0.446200\n",
      "Epoch  4, CIFAR-10 Batch 1:  Loss:     1.5392 Validation Accuracy: 0.467000\n",
      "Epoch  4, CIFAR-10 Batch 2:  Loss:     1.4394 Validation Accuracy: 0.469600\n",
      "Epoch  4, CIFAR-10 Batch 3:  Loss:     1.2806 Validation Accuracy: 0.470600\n",
      "Epoch  4, CIFAR-10 Batch 4:  Loss:     1.3375 Validation Accuracy: 0.482600\n",
      "Epoch  4, CIFAR-10 Batch 5:  Loss:     1.4058 Validation Accuracy: 0.481000\n",
      "Epoch  5, CIFAR-10 Batch 1:  Loss:     1.4588 Validation Accuracy: 0.496200\n",
      "Epoch  5, CIFAR-10 Batch 2:  Loss:     1.3657 Validation Accuracy: 0.505600\n",
      "Epoch  5, CIFAR-10 Batch 3:  Loss:     1.2176 Validation Accuracy: 0.497000\n",
      "Epoch  5, CIFAR-10 Batch 4:  Loss:     1.2370 Validation Accuracy: 0.512000\n",
      "Epoch  5, CIFAR-10 Batch 5:  Loss:     1.3419 Validation Accuracy: 0.500600\n",
      "Epoch  6, CIFAR-10 Batch 1:  Loss:     1.3908 Validation Accuracy: 0.528000\n",
      "Epoch  6, CIFAR-10 Batch 2:  Loss:     1.2750 Validation Accuracy: 0.515800\n",
      "Epoch  6, CIFAR-10 Batch 3:  Loss:     1.1764 Validation Accuracy: 0.523000\n",
      "Epoch  6, CIFAR-10 Batch 4:  Loss:     1.1667 Validation Accuracy: 0.537200\n",
      "Epoch  6, CIFAR-10 Batch 5:  Loss:     1.3296 Validation Accuracy: 0.505600\n",
      "Epoch  7, CIFAR-10 Batch 1:  Loss:     1.3416 Validation Accuracy: 0.545000\n",
      "Epoch  7, CIFAR-10 Batch 2:  Loss:     1.2347 Validation Accuracy: 0.545800\n",
      "Epoch  7, CIFAR-10 Batch 3:  Loss:     1.0800 Validation Accuracy: 0.554200\n",
      "Epoch  7, CIFAR-10 Batch 4:  Loss:     1.1105 Validation Accuracy: 0.543400\n",
      "Epoch  7, CIFAR-10 Batch 5:  Loss:     1.1916 Validation Accuracy: 0.536400\n",
      "Epoch  8, CIFAR-10 Batch 1:  Loss:     1.2330 Validation Accuracy: 0.577200\n",
      "Epoch  8, CIFAR-10 Batch 2:  Loss:     1.1621 Validation Accuracy: 0.549200\n",
      "Epoch  8, CIFAR-10 Batch 3:  Loss:     1.0448 Validation Accuracy: 0.568000\n",
      "Epoch  8, CIFAR-10 Batch 4:  Loss:     1.0062 Validation Accuracy: 0.578800\n",
      "Epoch  8, CIFAR-10 Batch 5:  Loss:     1.1653 Validation Accuracy: 0.541400\n",
      "Epoch  9, CIFAR-10 Batch 1:  Loss:     1.1575 Validation Accuracy: 0.589400\n",
      "Epoch  9, CIFAR-10 Batch 2:  Loss:     1.0986 Validation Accuracy: 0.569000\n",
      "Epoch  9, CIFAR-10 Batch 3:  Loss:     0.9956 Validation Accuracy: 0.582000\n",
      "Epoch  9, CIFAR-10 Batch 4:  Loss:     0.9527 Validation Accuracy: 0.595800\n",
      "Epoch  9, CIFAR-10 Batch 5:  Loss:     1.0473 Validation Accuracy: 0.596400\n",
      "Epoch 10, CIFAR-10 Batch 1:  Loss:     1.0863 Validation Accuracy: 0.602200\n",
      "Epoch 10, CIFAR-10 Batch 2:  Loss:     1.0547 Validation Accuracy: 0.572800\n",
      "Epoch 10, CIFAR-10 Batch 3:  Loss:     0.9464 Validation Accuracy: 0.605200\n",
      "Epoch 10, CIFAR-10 Batch 4:  Loss:     0.9269 Validation Accuracy: 0.605600\n",
      "Epoch 10, CIFAR-10 Batch 5:  Loss:     1.0047 Validation Accuracy: 0.599000\n",
      "Epoch 11, CIFAR-10 Batch 1:  Loss:     1.0545 Validation Accuracy: 0.610400\n",
      "Epoch 11, CIFAR-10 Batch 2:  Loss:     0.9557 Validation Accuracy: 0.620000\n",
      "Epoch 11, CIFAR-10 Batch 3:  Loss:     0.8913 Validation Accuracy: 0.624400\n",
      "Epoch 11, CIFAR-10 Batch 4:  Loss:     0.9093 Validation Accuracy: 0.616400\n",
      "Epoch 11, CIFAR-10 Batch 5:  Loss:     0.9250 Validation Accuracy: 0.627600\n",
      "Epoch 12, CIFAR-10 Batch 1:  Loss:     0.9996 Validation Accuracy: 0.627600\n",
      "Epoch 12, CIFAR-10 Batch 2:  Loss:     0.9170 Validation Accuracy: 0.634200\n",
      "Epoch 12, CIFAR-10 Batch 3:  Loss:     0.9161 Validation Accuracy: 0.601400\n",
      "Epoch 12, CIFAR-10 Batch 4:  Loss:     0.8549 Validation Accuracy: 0.628600\n",
      "Epoch 12, CIFAR-10 Batch 5:  Loss:     0.8829 Validation Accuracy: 0.634000\n",
      "Epoch 13, CIFAR-10 Batch 1:  Loss:     0.9406 Validation Accuracy: 0.643000\n",
      "Epoch 13, CIFAR-10 Batch 2:  Loss:     0.8911 Validation Accuracy: 0.649400\n",
      "Epoch 13, CIFAR-10 Batch 3:  Loss:     0.8060 Validation Accuracy: 0.624000\n",
      "Epoch 13, CIFAR-10 Batch 4:  Loss:     0.8243 Validation Accuracy: 0.639200\n",
      "Epoch 13, CIFAR-10 Batch 5:  Loss:     0.8240 Validation Accuracy: 0.644400\n",
      "Epoch 14, CIFAR-10 Batch 1:  Loss:     0.9611 Validation Accuracy: 0.624200\n",
      "Epoch 14, CIFAR-10 Batch 2:  Loss:     0.8240 Validation Accuracy: 0.644800\n",
      "Epoch 14, CIFAR-10 Batch 3:  Loss:     0.8569 Validation Accuracy: 0.614400\n",
      "Epoch 14, CIFAR-10 Batch 4:  Loss:     0.7877 Validation Accuracy: 0.643800\n",
      "Epoch 14, CIFAR-10 Batch 5:  Loss:     0.7995 Validation Accuracy: 0.647200\n",
      "Epoch 15, CIFAR-10 Batch 1:  Loss:     0.9011 Validation Accuracy: 0.637200\n",
      "Epoch 15, CIFAR-10 Batch 2:  Loss:     0.8000 Validation Accuracy: 0.655600\n",
      "Epoch 15, CIFAR-10 Batch 3:  Loss:     0.7685 Validation Accuracy: 0.646000\n",
      "Epoch 15, CIFAR-10 Batch 4:  Loss:     0.7359 Validation Accuracy: 0.663000\n",
      "Epoch 15, CIFAR-10 Batch 5:  Loss:     0.7921 Validation Accuracy: 0.643000\n",
      "Epoch 16, CIFAR-10 Batch 1:  Loss:     0.8552 Validation Accuracy: 0.627000\n",
      "Epoch 16, CIFAR-10 Batch 2:  Loss:     0.8279 Validation Accuracy: 0.623000\n",
      "Epoch 16, CIFAR-10 Batch 3:  Loss:     0.7489 Validation Accuracy: 0.652600\n",
      "Epoch 16, CIFAR-10 Batch 4:  Loss:     0.7506 Validation Accuracy: 0.652800\n",
      "Epoch 16, CIFAR-10 Batch 5:  Loss:     0.7236 Validation Accuracy: 0.659200\n",
      "Epoch 17, CIFAR-10 Batch 1:  Loss:     0.7669 Validation Accuracy: 0.663400\n",
      "Epoch 17, CIFAR-10 Batch 2:  Loss:     0.7276 Validation Accuracy: 0.668000\n",
      "Epoch 17, CIFAR-10 Batch 3:  Loss:     0.7330 Validation Accuracy: 0.646000\n",
      "Epoch 17, CIFAR-10 Batch 4:  Loss:     0.7684 Validation Accuracy: 0.632000\n",
      "Epoch 17, CIFAR-10 Batch 5:  Loss:     0.6873 Validation Accuracy: 0.662400\n",
      "Epoch 18, CIFAR-10 Batch 1:  Loss:     0.7686 Validation Accuracy: 0.668600\n",
      "Epoch 18, CIFAR-10 Batch 2:  Loss:     0.7425 Validation Accuracy: 0.660600\n",
      "Epoch 18, CIFAR-10 Batch 3:  Loss:     0.6981 Validation Accuracy: 0.651600\n",
      "Epoch 18, CIFAR-10 Batch 4:  Loss:     0.6691 Validation Accuracy: 0.665400\n",
      "Epoch 18, CIFAR-10 Batch 5:  Loss:     0.6411 Validation Accuracy: 0.664000\n",
      "Epoch 19, CIFAR-10 Batch 1:  Loss:     0.7528 Validation Accuracy: 0.663600\n",
      "Epoch 19, CIFAR-10 Batch 2:  Loss:     0.7039 Validation Accuracy: 0.661400\n",
      "Epoch 19, CIFAR-10 Batch 3:  Loss:     0.6638 Validation Accuracy: 0.664400\n",
      "Epoch 19, CIFAR-10 Batch 4:  Loss:     0.6560 Validation Accuracy: 0.679400\n",
      "Epoch 19, CIFAR-10 Batch 5:  Loss:     0.6158 Validation Accuracy: 0.671000\n",
      "Epoch 20, CIFAR-10 Batch 1:  Loss:     0.7286 Validation Accuracy: 0.669800\n",
      "Epoch 20, CIFAR-10 Batch 2:  Loss:     0.6806 Validation Accuracy: 0.675000\n",
      "Epoch 20, CIFAR-10 Batch 3:  Loss:     0.6094 Validation Accuracy: 0.683200\n",
      "Epoch 20, CIFAR-10 Batch 4:  Loss:     0.6226 Validation Accuracy: 0.676200\n",
      "Epoch 20, CIFAR-10 Batch 5:  Loss:     0.5698 Validation Accuracy: 0.681000\n",
      "Epoch 21, CIFAR-10 Batch 1:  Loss:     0.6558 Validation Accuracy: 0.680200\n",
      "Epoch 21, CIFAR-10 Batch 2:  Loss:     0.6608 Validation Accuracy: 0.669400\n",
      "Epoch 21, CIFAR-10 Batch 3:  Loss:     0.6500 Validation Accuracy: 0.650800\n",
      "Epoch 21, CIFAR-10 Batch 4:  Loss:     0.6321 Validation Accuracy: 0.676000\n",
      "Epoch 21, CIFAR-10 Batch 5:  Loss:     0.5450 Validation Accuracy: 0.677200\n",
      "Epoch 22, CIFAR-10 Batch 1:  Loss:     0.6913 Validation Accuracy: 0.665200\n",
      "Epoch 22, CIFAR-10 Batch 2:  Loss:     0.5999 Validation Accuracy: 0.677000\n",
      "Epoch 22, CIFAR-10 Batch 3:  Loss:     0.5761 Validation Accuracy: 0.676200\n",
      "Epoch 22, CIFAR-10 Batch 4:  Loss:     0.5996 Validation Accuracy: 0.686200\n",
      "Epoch 22, CIFAR-10 Batch 5:  Loss:     0.5385 Validation Accuracy: 0.687200\n",
      "Epoch 23, CIFAR-10 Batch 1:  Loss:     0.6501 Validation Accuracy: 0.677800\n",
      "Epoch 23, CIFAR-10 Batch 2:  Loss:     0.5414 Validation Accuracy: 0.683600\n",
      "Epoch 23, CIFAR-10 Batch 3:  Loss:     0.5779 Validation Accuracy: 0.664600\n",
      "Epoch 23, CIFAR-10 Batch 4:  Loss:     0.5846 Validation Accuracy: 0.677200\n",
      "Epoch 23, CIFAR-10 Batch 5:  Loss:     0.5066 Validation Accuracy: 0.676800\n",
      "Epoch 24, CIFAR-10 Batch 1:  Loss:     0.5733 Validation Accuracy: 0.690400\n",
      "Epoch 24, CIFAR-10 Batch 2:  Loss:     0.5248 Validation Accuracy: 0.682400\n",
      "Epoch 24, CIFAR-10 Batch 3:  Loss:     0.5148 Validation Accuracy: 0.685200\n",
      "Epoch 24, CIFAR-10 Batch 4:  Loss:     0.5235 Validation Accuracy: 0.698000\n",
      "Epoch 24, CIFAR-10 Batch 5:  Loss:     0.4969 Validation Accuracy: 0.682400\n",
      "Epoch 25, CIFAR-10 Batch 1:  Loss:     0.6001 Validation Accuracy: 0.683400\n",
      "Epoch 25, CIFAR-10 Batch 2:  Loss:     0.5388 Validation Accuracy: 0.670000\n",
      "Epoch 25, CIFAR-10 Batch 3:  Loss:     0.5509 Validation Accuracy: 0.665400\n",
      "Epoch 25, CIFAR-10 Batch 4:  Loss:     0.5167 Validation Accuracy: 0.691600\n",
      "Epoch 25, CIFAR-10 Batch 5:  Loss:     0.4755 Validation Accuracy: 0.676800\n",
      "Epoch 26, CIFAR-10 Batch 1:  Loss:     0.5886 Validation Accuracy: 0.681400\n",
      "Epoch 26, CIFAR-10 Batch 2:  Loss:     0.5242 Validation Accuracy: 0.666000\n",
      "Epoch 26, CIFAR-10 Batch 3:  Loss:     0.5162 Validation Accuracy: 0.683600\n",
      "Epoch 26, CIFAR-10 Batch 4:  Loss:     0.5172 Validation Accuracy: 0.684400\n",
      "Epoch 26, CIFAR-10 Batch 5:  Loss:     0.4897 Validation Accuracy: 0.667600\n",
      "Epoch 27, CIFAR-10 Batch 1:  Loss:     0.5622 Validation Accuracy: 0.684000\n",
      "Epoch 27, CIFAR-10 Batch 2:  Loss:     0.4879 Validation Accuracy: 0.679400\n",
      "Epoch 27, CIFAR-10 Batch 3:  Loss:     0.4638 Validation Accuracy: 0.685800\n",
      "Epoch 27, CIFAR-10 Batch 4:  Loss:     0.5115 Validation Accuracy: 0.679400\n",
      "Epoch 27, CIFAR-10 Batch 5:  Loss:     0.4614 Validation Accuracy: 0.678400\n",
      "Epoch 28, CIFAR-10 Batch 1:  Loss:     0.5246 Validation Accuracy: 0.702400\n",
      "Epoch 28, CIFAR-10 Batch 2:  Loss:     0.4337 Validation Accuracy: 0.678400\n",
      "Epoch 28, CIFAR-10 Batch 3:  Loss:     0.4239 Validation Accuracy: 0.704000\n",
      "Epoch 28, CIFAR-10 Batch 4:  Loss:     0.5034 Validation Accuracy: 0.688800\n",
      "Epoch 28, CIFAR-10 Batch 5:  Loss:     0.4271 Validation Accuracy: 0.686600\n",
      "Epoch 29, CIFAR-10 Batch 1:  Loss:     0.4891 Validation Accuracy: 0.702400\n",
      "Epoch 29, CIFAR-10 Batch 2:  Loss:     0.4216 Validation Accuracy: 0.673600\n",
      "Epoch 29, CIFAR-10 Batch 3:  Loss:     0.4157 Validation Accuracy: 0.696000\n",
      "Epoch 29, CIFAR-10 Batch 4:  Loss:     0.4629 Validation Accuracy: 0.689200\n",
      "Epoch 29, CIFAR-10 Batch 5:  Loss:     0.4181 Validation Accuracy: 0.693000\n",
      "Epoch 30, CIFAR-10 Batch 1:  Loss:     0.5140 Validation Accuracy: 0.695400\n",
      "Epoch 30, CIFAR-10 Batch 2:  Loss:     0.4124 Validation Accuracy: 0.685000\n",
      "Epoch 30, CIFAR-10 Batch 3:  Loss:     0.3892 Validation Accuracy: 0.699600\n",
      "Epoch 30, CIFAR-10 Batch 4:  Loss:     0.4534 Validation Accuracy: 0.680000\n",
      "Epoch 30, CIFAR-10 Batch 5:  Loss:     0.3679 Validation Accuracy: 0.695400\n",
      "Epoch 31, CIFAR-10 Batch 1:  Loss:     0.4652 Validation Accuracy: 0.699600\n",
      "Epoch 31, CIFAR-10 Batch 2:  Loss:     0.4027 Validation Accuracy: 0.681200\n",
      "Epoch 31, CIFAR-10 Batch 3:  Loss:     0.3782 Validation Accuracy: 0.708800\n",
      "Epoch 31, CIFAR-10 Batch 4:  Loss:     0.3968 Validation Accuracy: 0.698200\n",
      "Epoch 31, CIFAR-10 Batch 5:  Loss:     0.3511 Validation Accuracy: 0.698600\n",
      "Epoch 32, CIFAR-10 Batch 1:  Loss:     0.4343 Validation Accuracy: 0.700000\n",
      "Epoch 32, CIFAR-10 Batch 2:  Loss:     0.3907 Validation Accuracy: 0.678200\n",
      "Epoch 32, CIFAR-10 Batch 3:  Loss:     0.4236 Validation Accuracy: 0.679200\n",
      "Epoch 32, CIFAR-10 Batch 4:  Loss:     0.4023 Validation Accuracy: 0.695400\n",
      "Epoch 32, CIFAR-10 Batch 5:  Loss:     0.3787 Validation Accuracy: 0.684200\n",
      "Epoch 33, CIFAR-10 Batch 1:  Loss:     0.4674 Validation Accuracy: 0.688600\n",
      "Epoch 33, CIFAR-10 Batch 2:  Loss:     0.4044 Validation Accuracy: 0.663000\n",
      "Epoch 33, CIFAR-10 Batch 3:  Loss:     0.4066 Validation Accuracy: 0.682800\n",
      "Epoch 33, CIFAR-10 Batch 4:  Loss:     0.4248 Validation Accuracy: 0.683600\n",
      "Epoch 33, CIFAR-10 Batch 5:  Loss:     0.3508 Validation Accuracy: 0.682800\n",
      "Epoch 34, CIFAR-10 Batch 1:  Loss:     0.4297 Validation Accuracy: 0.697200\n",
      "Epoch 34, CIFAR-10 Batch 2:  Loss:     0.4218 Validation Accuracy: 0.644600\n",
      "Epoch 34, CIFAR-10 Batch 3:  Loss:     0.3846 Validation Accuracy: 0.683200\n",
      "Epoch 34, CIFAR-10 Batch 4:  Loss:     0.3679 Validation Accuracy: 0.692400\n",
      "Epoch 34, CIFAR-10 Batch 5:  Loss:     0.3297 Validation Accuracy: 0.686400\n",
      "Epoch 35, CIFAR-10 Batch 1:  Loss:     0.4593 Validation Accuracy: 0.685000\n",
      "Epoch 35, CIFAR-10 Batch 2:  Loss:     0.4102 Validation Accuracy: 0.646000\n",
      "Epoch 35, CIFAR-10 Batch 3:  Loss:     0.3653 Validation Accuracy: 0.694600\n",
      "Epoch 35, CIFAR-10 Batch 4:  Loss:     0.3744 Validation Accuracy: 0.694000\n",
      "Epoch 35, CIFAR-10 Batch 5:  Loss:     0.3390 Validation Accuracy: 0.688800\n",
      "Epoch 36, CIFAR-10 Batch 1:  Loss:     0.3940 Validation Accuracy: 0.703000\n",
      "Epoch 36, CIFAR-10 Batch 2:  Loss:     0.3908 Validation Accuracy: 0.681000\n",
      "Epoch 36, CIFAR-10 Batch 3:  Loss:     0.3387 Validation Accuracy: 0.703600\n",
      "Epoch 36, CIFAR-10 Batch 4:  Loss:     0.3536 Validation Accuracy: 0.692800\n",
      "Epoch 36, CIFAR-10 Batch 5:  Loss:     0.3127 Validation Accuracy: 0.691200\n",
      "Epoch 37, CIFAR-10 Batch 1:  Loss:     0.3695 Validation Accuracy: 0.703600\n",
      "Epoch 37, CIFAR-10 Batch 2:  Loss:     0.4049 Validation Accuracy: 0.663800\n",
      "Epoch 37, CIFAR-10 Batch 3:  Loss:     0.3346 Validation Accuracy: 0.696800\n",
      "Epoch 37, CIFAR-10 Batch 4:  Loss:     0.3634 Validation Accuracy: 0.690000\n",
      "Epoch 37, CIFAR-10 Batch 5:  Loss:     0.2951 Validation Accuracy: 0.693400\n",
      "Epoch 38, CIFAR-10 Batch 1:  Loss:     0.4637 Validation Accuracy: 0.679800\n",
      "Epoch 38, CIFAR-10 Batch 2:  Loss:     0.3703 Validation Accuracy: 0.685400\n",
      "Epoch 38, CIFAR-10 Batch 3:  Loss:     0.3324 Validation Accuracy: 0.702400\n",
      "Epoch 38, CIFAR-10 Batch 4:  Loss:     0.3124 Validation Accuracy: 0.704400\n",
      "Epoch 38, CIFAR-10 Batch 5:  Loss:     0.3089 Validation Accuracy: 0.690200\n",
      "Epoch 39, CIFAR-10 Batch 1:  Loss:     0.3943 Validation Accuracy: 0.690600\n",
      "Epoch 39, CIFAR-10 Batch 2:  Loss:     0.3700 Validation Accuracy: 0.674400\n",
      "Epoch 39, CIFAR-10 Batch 3:  Loss:     0.3272 Validation Accuracy: 0.698600\n",
      "Epoch 39, CIFAR-10 Batch 4:  Loss:     0.3244 Validation Accuracy: 0.701200\n",
      "Epoch 39, CIFAR-10 Batch 5:  Loss:     0.2570 Validation Accuracy: 0.692400\n",
      "Epoch 40, CIFAR-10 Batch 1:  Loss:     0.3610 Validation Accuracy: 0.687800\n",
      "Epoch 40, CIFAR-10 Batch 2:  Loss:     0.3562 Validation Accuracy: 0.686800\n",
      "Epoch 40, CIFAR-10 Batch 3:  Loss:     0.3388 Validation Accuracy: 0.692200\n",
      "Epoch 40, CIFAR-10 Batch 4:  Loss:     0.3086 Validation Accuracy: 0.694400\n",
      "Epoch 40, CIFAR-10 Batch 5:  Loss:     0.2936 Validation Accuracy: 0.674800\n",
      "Epoch 41, CIFAR-10 Batch 1:  Loss:     0.3369 Validation Accuracy: 0.699200\n",
      "Epoch 41, CIFAR-10 Batch 2:  Loss:     0.3360 Validation Accuracy: 0.687200\n",
      "Epoch 41, CIFAR-10 Batch 3:  Loss:     0.3225 Validation Accuracy: 0.696200\n",
      "Epoch 41, CIFAR-10 Batch 4:  Loss:     0.2838 Validation Accuracy: 0.693400\n",
      "Epoch 41, CIFAR-10 Batch 5:  Loss:     0.2510 Validation Accuracy: 0.681400\n",
      "Epoch 42, CIFAR-10 Batch 1:  Loss:     0.3894 Validation Accuracy: 0.683400\n",
      "Epoch 42, CIFAR-10 Batch 2:  Loss:     0.3094 Validation Accuracy: 0.690200\n",
      "Epoch 42, CIFAR-10 Batch 3:  Loss:     0.2856 Validation Accuracy: 0.701200\n",
      "Epoch 42, CIFAR-10 Batch 4:  Loss:     0.2652 Validation Accuracy: 0.699600\n",
      "Epoch 42, CIFAR-10 Batch 5:  Loss:     0.2313 Validation Accuracy: 0.692600\n",
      "Epoch 43, CIFAR-10 Batch 1:  Loss:     0.3329 Validation Accuracy: 0.673400\n",
      "Epoch 43, CIFAR-10 Batch 2:  Loss:     0.2798 Validation Accuracy: 0.687800\n",
      "Epoch 43, CIFAR-10 Batch 3:  Loss:     0.2660 Validation Accuracy: 0.691000\n",
      "Epoch 43, CIFAR-10 Batch 4:  Loss:     0.2541 Validation Accuracy: 0.697400\n",
      "Epoch 43, CIFAR-10 Batch 5:  Loss:     0.2717 Validation Accuracy: 0.670400\n",
      "Epoch 44, CIFAR-10 Batch 1:  Loss:     0.3355 Validation Accuracy: 0.694800\n",
      "Epoch 44, CIFAR-10 Batch 2:  Loss:     0.2831 Validation Accuracy: 0.684200\n",
      "Epoch 44, CIFAR-10 Batch 3:  Loss:     0.2629 Validation Accuracy: 0.700400\n",
      "Epoch 44, CIFAR-10 Batch 4:  Loss:     0.2605 Validation Accuracy: 0.698000\n",
      "Epoch 44, CIFAR-10 Batch 5:  Loss:     0.2340 Validation Accuracy: 0.681400\n",
      "Epoch 45, CIFAR-10 Batch 1:  Loss:     0.3465 Validation Accuracy: 0.681800\n",
      "Epoch 45, CIFAR-10 Batch 2:  Loss:     0.2859 Validation Accuracy: 0.692000\n",
      "Epoch 45, CIFAR-10 Batch 3:  Loss:     0.2256 Validation Accuracy: 0.706800\n",
      "Epoch 45, CIFAR-10 Batch 4:  Loss:     0.2389 Validation Accuracy: 0.701600\n",
      "Epoch 45, CIFAR-10 Batch 5:  Loss:     0.2210 Validation Accuracy: 0.688600\n",
      "Epoch 46, CIFAR-10 Batch 1:  Loss:     0.2998 Validation Accuracy: 0.676200\n",
      "Epoch 46, CIFAR-10 Batch 2:  Loss:     0.2476 Validation Accuracy: 0.682800\n",
      "Epoch 46, CIFAR-10 Batch 3:  Loss:     0.1953 Validation Accuracy: 0.706600\n",
      "Epoch 46, CIFAR-10 Batch 4:  Loss:     0.2465 Validation Accuracy: 0.696600\n",
      "Epoch 46, CIFAR-10 Batch 5:  Loss:     0.2114 Validation Accuracy: 0.684600\n",
      "Epoch 47, CIFAR-10 Batch 1:  Loss:     0.3317 Validation Accuracy: 0.675400\n",
      "Epoch 47, CIFAR-10 Batch 2:  Loss:     0.2490 Validation Accuracy: 0.676200\n",
      "Epoch 47, CIFAR-10 Batch 3:  Loss:     0.2075 Validation Accuracy: 0.706600\n",
      "Epoch 47, CIFAR-10 Batch 4:  Loss:     0.2241 Validation Accuracy: 0.702400\n",
      "Epoch 47, CIFAR-10 Batch 5:  Loss:     0.1997 Validation Accuracy: 0.691200\n",
      "Epoch 48, CIFAR-10 Batch 1:  Loss:     0.2826 Validation Accuracy: 0.683400\n",
      "Epoch 48, CIFAR-10 Batch 2:  Loss:     0.2516 Validation Accuracy: 0.689000\n",
      "Epoch 48, CIFAR-10 Batch 3:  Loss:     0.1996 Validation Accuracy: 0.707400\n",
      "Epoch 48, CIFAR-10 Batch 4:  Loss:     0.2115 Validation Accuracy: 0.705600\n",
      "Epoch 48, CIFAR-10 Batch 5:  Loss:     0.1877 Validation Accuracy: 0.701800\n",
      "Epoch 49, CIFAR-10 Batch 1:  Loss:     0.2336 Validation Accuracy: 0.685600\n",
      "Epoch 49, CIFAR-10 Batch 2:  Loss:     0.2280 Validation Accuracy: 0.687000\n",
      "Epoch 49, CIFAR-10 Batch 3:  Loss:     0.1769 Validation Accuracy: 0.706400\n",
      "Epoch 49, CIFAR-10 Batch 4:  Loss:     0.1934 Validation Accuracy: 0.707600\n",
      "Epoch 49, CIFAR-10 Batch 5:  Loss:     0.1677 Validation Accuracy: 0.689400\n",
      "Epoch 50, CIFAR-10 Batch 1:  Loss:     0.2369 Validation Accuracy: 0.684400\n",
      "Epoch 50, CIFAR-10 Batch 2:  Loss:     0.2399 Validation Accuracy: 0.694200\n",
      "Epoch 50, CIFAR-10 Batch 3:  Loss:     0.1933 Validation Accuracy: 0.693800\n",
      "Epoch 50, CIFAR-10 Batch 4:  Loss:     0.1990 Validation Accuracy: 0.700600\n",
      "Epoch 50, CIFAR-10 Batch 5:  Loss:     0.1866 Validation Accuracy: 0.678600\n"
     ]
    }
   ],
   "source": [
    "\"\"\"\n",
    "DON'T MODIFY ANYTHING IN THIS CELL\n",
    "\"\"\"\n",
    "save_model_path = './image_classification'\n",
    "\n",
    "print('Training...')\n",
    "with tf.Session() as sess:\n",
    "    # Initializing the variables\n",
    "    sess.run(tf.global_variables_initializer())\n",
    "    \n",
    "    # Training cycle\n",
    "    for epoch in range(epochs):\n",
    "        # Loop over all batches\n",
    "        n_batches = 5\n",
    "        for batch_i in range(1, n_batches + 1):\n",
    "            for batch_features, batch_labels in helper.load_preprocess_training_batch(batch_i, batch_size):\n",
    "                train_neural_network(sess, optimizer, keep_probability, batch_features, batch_labels)\n",
    "            print('Epoch {:>2}, CIFAR-10 Batch {}:  '.format(epoch + 1, batch_i), end='')\n",
    "            print_stats(sess, batch_features, batch_labels, cost, accuracy)\n",
    "            \n",
    "    # Save Model\n",
    "    saver = tf.train.Saver()\n",
    "    save_path = saver.save(sess, save_model_path)"
   ]
  },
  {
   "cell_type": "markdown",
   "metadata": {
    "deletable": true,
    "editable": true
   },
   "source": [
    "# Checkpoint\n",
    "The model has been saved to disk.\n",
    "## Test Model\n",
    "Test your model against the test dataset.  This will be your final accuracy. You should have an accuracy greater than 50%. If you don't, keep tweaking the model architecture and parameters."
   ]
  },
  {
   "cell_type": "code",
   "execution_count": 27,
   "metadata": {
    "collapsed": false,
    "deletable": true,
    "editable": true
   },
   "outputs": [
    {
     "name": "stdout",
     "output_type": "stream",
     "text": [
      "Testing Accuracy: 0.6740176945924758\n",
      "\n"
     ]
    },
    {
     "data": {
      "image/png": "[encoded data removed]",
      "text/plain": [
       "<matplotlib.figure.Figure at 0x7f1f00a2ccc0>"
      ]
     },
     "metadata": {
      "image/png": {
       "height": 319,
       "width": 355
      }
     },
     "output_type": "display_data"
    }
   ],
   "source": [
    "\"\"\"\n",
    "DON'T MODIFY ANYTHING IN THIS CELL\n",
    "\"\"\"\n",
    "%matplotlib inline\n",
    "%config InlineBackend.figure_format = 'retina'\n",
    "\n",
    "import tensorflow as tf\n",
    "import pickle\n",
    "import helper\n",
    "import random\n",
    "\n",
    "# Set batch size if not already set\n",
    "try:\n",
    "    if batch_size:\n",
    "        pass\n",
    "except NameError:\n",
    "    batch_size = 64\n",
    "\n",
    "save_model_path = './image_classification'\n",
    "n_samples = 4\n",
    "top_n_predictions = 3\n",
    "\n",
    "def test_model():\n",
    "    \"\"\"\n",
    "    Test the saved model against the test dataset\n",
    "    \"\"\"\n",
    "\n",
    "    test_features, test_labels = pickle.load(open('preprocess_training.p', mode='rb'))\n",
    "    loaded_graph = tf.Graph()\n",
    "\n",
    "    with tf.Session(graph=loaded_graph) as sess:\n",
    "        # Load model\n",
    "        loader = tf.train.import_meta_graph(save_model_path + '.meta')\n",
    "        loader.restore(sess, save_model_path)\n",
    "\n",
    "        # Get Tensors from loaded model\n",
    "        loaded_x = loaded_graph.get_tensor_by_name('x:0')\n",
    "        loaded_y = loaded_graph.get_tensor_by_name('y:0')\n",
    "        loaded_keep_prob = loaded_graph.get_tensor_by_name('keep_prob:0')\n",
    "        loaded_logits = loaded_graph.get_tensor_by_name('logits:0')\n",
    "        loaded_acc = loaded_graph.get_tensor_by_name('accuracy:0')\n",
    "        \n",
    "        # Get accuracy in batches for memory limitations\n",
    "        test_batch_acc_total = 0\n",
    "        test_batch_count = 0\n",
    "        \n",
    "        for train_feature_batch, train_label_batch in helper.batch_features_labels(test_features, test_labels, batch_size):\n",
    "            test_batch_acc_total += sess.run(\n",
    "                loaded_acc,\n",
    "                feed_dict={loaded_x: train_feature_batch, loaded_y: train_label_batch, loaded_keep_prob: 1.0})\n",
    "            test_batch_count += 1\n",
    "\n",
    "        print('Testing Accuracy: {}\\n'.format(test_batch_acc_total/test_batch_count))\n",
    "\n",
    "        # Print Random Samples\n",
    "        random_test_features, random_test_labels = tuple(zip(*random.sample(list(zip(test_features, test_labels)), n_samples)))\n",
    "        random_test_predictions = sess.run(\n",
    "            tf.nn.top_k(tf.nn.softmax(loaded_logits), top_n_predictions),\n",
    "            feed_dict={loaded_x: random_test_features, loaded_y: random_test_labels, loaded_keep_prob: 1.0})\n",
    "        helper.display_image_predictions(random_test_features, random_test_labels, random_test_predictions)\n",
    "\n",
    "\n",
    "test_model()"
   ]
  },
  {
   "cell_type": "markdown",
   "metadata": {
    "deletable": true,
    "editable": true
   },
   "source": [
    "## Why 50-80% Accuracy?\n",
    "You might be wondering why you can't get an accuracy any higher. First things first, 50% isn't bad for a simple CNN.  Pure guessing would get you 10% accuracy. However, you might notice people are getting scores [well above 80%](http://rodrigob.github.io/are_we_there_yet/build/classification_datasets_results.html#43494641522d3130).  That's because we haven't taught you all there is to know about neural networks. We still need to cover a few more techniques.\n",
    "## Submitting This Project\n",
    "When submitting this project, make sure to run all the cells before saving the notebook.  Save the notebook file as \"dlnd_image_classification.ipynb\" and save it as a HTML file under \"File\" -> \"Download as\".  Include the \"helper.py\" and \"problem_unittests.py\" files in your submission."
   ]
  }
 ],
 "metadata": {
  "kernelspec": {
   "display_name": "Python 3",
   "language": "python",
   "name": "python3"
  },
  "language_info": {
   "codemirror_mode": {
    "name": "ipython",
    "version": 3
   },
   "file_extension": ".py",
   "mimetype": "text/x-python",
   "name": "python",
   "nbconvert_exporter": "python",
   "pygments_lexer": "ipython3",
   "version": "3.5.2"
  },
  "widgets": {
   "state": {},
   "version": "1.1.2"
  }
 },
 "nbformat": 4,
 "nbformat_minor": 0
}
